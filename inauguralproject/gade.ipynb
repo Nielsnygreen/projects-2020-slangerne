{
 "cells": [
  {
   "cell_type": "markdown",
   "metadata": {},
   "source": [
    "# Inaugural Project"
   ]
  },
  {
   "cell_type": "markdown",
   "metadata": {},
   "source": [
    "> **Note the following:** \n",
    "> 1. This is an example of how to structure your **inaugural project**.\n",
    "> 1. Remember the general advice on structuring and commenting your code from [lecture 5](https://numeconcopenhagen.netlify.com/lectures/Workflow_and_debugging).\n",
    "> 1. Remember this [guide](https://www.markdownguide.org/basic-syntax/) on markdown and (a bit of) latex.\n",
    "> 1. Turn on automatic numbering by clicking on the small icon on top of the table of contents in the left sidebar.\n",
    "> 1. The `inauguralproject.py` file includes a function which can be used multiple times in this notebook."
   ]
  },
  {
   "cell_type": "markdown",
   "metadata": {},
   "source": [
    "Imports and set magics:"
   ]
  },
  {
   "cell_type": "code",
   "execution_count": 57,
   "metadata": {},
   "outputs": [],
   "source": [
    "import numpy as np\n",
    "\n",
    "# autoreload modules when code is run\n",
    "%reload_ext autoreload\n",
    "%autoreload 2\n",
    "\n",
    "# local modules\n",
    "import inauguralproject"
   ]
  },
  {
   "cell_type": "markdown",
   "metadata": {
    "toc-hr-collapsed": true
   },
   "source": [
    "# Question 1"
   ]
  },
  {
   "cell_type": "markdown",
   "metadata": {},
   "source": [
    "BRIEFLY EXPLAIN HOW YOU SOLVE THE MODEL."
   ]
  },
  {
   "cell_type": "code",
   "execution_count": 86,
   "metadata": {},
   "outputs": [
    {
     "name": "stdout",
     "output_type": "stream",
     "text": "0.55\n1.0\n"
    },
    {
     "ename": "NameError",
     "evalue": "name 'self' is not defined",
     "output_type": "error",
     "traceback": [
      "\u001b[0;31m---------------------------------------------------------------------------\u001b[0m",
      "\u001b[0;31mNameError\u001b[0m                                 Traceback (most recent call last)",
      "\u001b[0;32m<ipython-input-86-b85bfb11b68e>\u001b[0m in \u001b[0;36m<module>\u001b[0;34m\u001b[0m\n\u001b[1;32m      2\u001b[0m \u001b[0ml_star\u001b[0m\u001b[0;34m=\u001b[0m\u001b[0;36m0\u001b[0m\u001b[0;34m\u001b[0m\u001b[0;34m\u001b[0m\u001b[0m\n\u001b[1;32m      3\u001b[0m \u001b[0mw\u001b[0m\u001b[0;34m=\u001b[0m\u001b[0;36m0.55\u001b[0m\u001b[0;34m\u001b[0m\u001b[0;34m\u001b[0m\u001b[0m\n\u001b[0;32m----> 4\u001b[0;31m \u001b[0;32mclass\u001b[0m \u001b[0mConsumerClass\u001b[0m\u001b[0;34m:\u001b[0m\u001b[0;34m\u001b[0m\u001b[0;34m\u001b[0m\u001b[0m\n\u001b[0m\u001b[1;32m      5\u001b[0m \u001b[0;34m\u001b[0m\u001b[0m\n\u001b[1;32m      6\u001b[0m     \u001b[0;32mdef\u001b[0m \u001b[0m__init__\u001b[0m\u001b[0;34m(\u001b[0m\u001b[0mself\u001b[0m\u001b[0;34m)\u001b[0m\u001b[0;34m:\u001b[0m\u001b[0;34m\u001b[0m\u001b[0;34m\u001b[0m\u001b[0m\n",
      "\u001b[0;32m<ipython-input-86-b85bfb11b68e>\u001b[0m in \u001b[0;36mConsumerClass\u001b[0;34m()\u001b[0m\n\u001b[1;32m     15\u001b[0m     \u001b[0mprint\u001b[0m\u001b[0;34m(\u001b[0m\u001b[0mw\u001b[0m\u001b[0;34m)\u001b[0m\u001b[0;34m\u001b[0m\u001b[0;34m\u001b[0m\u001b[0m\n\u001b[1;32m     16\u001b[0m     \u001b[0mprint\u001b[0m\u001b[0;34m(\u001b[0m\u001b[0mtau_0\u001b[0m\u001b[0;34m)\u001b[0m\u001b[0;34m\u001b[0m\u001b[0;34m\u001b[0m\u001b[0m\n\u001b[0;32m---> 17\u001b[0;31m     \u001b[0ml_star\u001b[0m \u001b[0;34m=\u001b[0m \u001b[0minauguralproject\u001b[0m\u001b[0;34m.\u001b[0m\u001b[0moptimizer\u001b[0m\u001b[0;34m(\u001b[0m\u001b[0mself\u001b[0m\u001b[0;34m,\u001b[0m\u001b[0mw\u001b[0m\u001b[0;34m)\u001b[0m\u001b[0;34m[\u001b[0m\u001b[0;36m0\u001b[0m\u001b[0;34m]\u001b[0m\u001b[0;34m\u001b[0m\u001b[0;34m\u001b[0m\u001b[0m\n\u001b[0m\u001b[1;32m     18\u001b[0m     \u001b[0mc_star\u001b[0m \u001b[0;34m=\u001b[0m \u001b[0minauguralproject\u001b[0m\u001b[0;34m.\u001b[0m\u001b[0moptimizer\u001b[0m\u001b[0;34m(\u001b[0m\u001b[0mw\u001b[0m\u001b[0;34m,\u001b[0m\u001b[0meps\u001b[0m\u001b[0;34m,\u001b[0m\u001b[0mv\u001b[0m\u001b[0;34m,\u001b[0m\u001b[0mtau_0\u001b[0m\u001b[0;34m,\u001b[0m\u001b[0mtau_1\u001b[0m\u001b[0;34m,\u001b[0m\u001b[0mkappa\u001b[0m\u001b[0;34m,\u001b[0m\u001b[0mm\u001b[0m\u001b[0;34m)\u001b[0m\u001b[0;34m[\u001b[0m\u001b[0;36m1\u001b[0m\u001b[0;34m]\u001b[0m\u001b[0;34m\u001b[0m\u001b[0;34m\u001b[0m\u001b[0m\n\u001b[1;32m     19\u001b[0m     \u001b[0mu_star\u001b[0m \u001b[0;34m=\u001b[0m \u001b[0minauguralproject\u001b[0m\u001b[0;34m.\u001b[0m\u001b[0moptimizer\u001b[0m\u001b[0;34m(\u001b[0m\u001b[0mw\u001b[0m\u001b[0;34m,\u001b[0m\u001b[0meps\u001b[0m\u001b[0;34m,\u001b[0m\u001b[0mv\u001b[0m\u001b[0;34m,\u001b[0m\u001b[0mtau_0\u001b[0m\u001b[0;34m,\u001b[0m\u001b[0mtau_1\u001b[0m\u001b[0;34m,\u001b[0m\u001b[0mkappa\u001b[0m\u001b[0;34m,\u001b[0m\u001b[0mm\u001b[0m\u001b[0;34m)\u001b[0m\u001b[0;34m[\u001b[0m\u001b[0;36m2\u001b[0m\u001b[0;34m]\u001b[0m\u001b[0;34m\u001b[0m\u001b[0;34m\u001b[0m\u001b[0m\n",
      "\u001b[0;31mNameError\u001b[0m: name 'self' is not defined"
     ]
    }
   ],
   "source": [
    "# code for solving the model (remember documentation and comments)\n",
    "l_star=0\n",
    "w=0.55\n",
    "class ConsumerClass:\n",
    "\n",
    "    def __init__(self):\n",
    "        self.m = 1 #cash-on-hand\n",
    "        self.v = 10 #disutility of labor\n",
    "        self.eps = 0.3 #elasticity of labor supply\n",
    "        self.tau_0 = 0.4 #standard labor income tax\n",
    "        self.tau_1 = 0.1 #top bracket labor income tax\n",
    "        self.kappa = 0.4 #cut-off for top labor income tax\n",
    "        self.w = 0.5 #wage rate\n",
    "        \n",
    "    print(w)\n",
    "    print(tau_0)\n",
    "    l_star = inauguralproject.optimizer(w,eps,v,tau_0,tau_1,kappa,m)[0]\n",
    "    c_star = inauguralproject.optimizer(w,eps,v,tau_0,tau_1,kappa,m)[1]\n",
    "    u_star = inauguralproject.optimizer(w,eps,v,tau_0,tau_1,kappa,m)[2]\n",
    "\n",
    "result = ConsumerClass()\n",
    "result.w=1\n",
    "print('Labour supply is: ' + str(round(result.l_star,7)) + ' and Consumption supply is: ' + str(round(result.c_star,7)) )\n",
    "print(w)\n",
    "print(result.w)"
   ]
  },
  {
   "cell_type": "markdown",
   "metadata": {},
   "source": [
    "# Question 2"
   ]
  },
  {
   "cell_type": "markdown",
   "metadata": {},
   "source": [
    "ADD ANSWER."
   ]
  },
  {
   "cell_type": "code",
   "execution_count": 3,
   "metadata": {},
   "outputs": [],
   "source": [
    "# code"
   ]
  },
  {
   "cell_type": "markdown",
   "metadata": {},
   "source": [
    "# Question 3"
   ]
  },
  {
   "cell_type": "markdown",
   "metadata": {},
   "source": [
    "ADD ANSWER."
   ]
  },
  {
   "cell_type": "code",
   "execution_count": 4,
   "metadata": {},
   "outputs": [],
   "source": [
    "# code"
   ]
  },
  {
   "cell_type": "markdown",
   "metadata": {},
   "source": [
    "# Question 4"
   ]
  },
  {
   "cell_type": "markdown",
   "metadata": {},
   "source": [
    "ADD ANSWER."
   ]
  },
  {
   "cell_type": "code",
   "execution_count": 16,
   "metadata": {},
   "outputs": [
    {
     "name": "stdout",
     "output_type": "stream",
     "text": "0.2996984996185023\n"
    }
   ],
   "source": [
    "# code\n",
    "\n",
    "m = 1 #cash-on-hand\n",
    "v = 10 #disutility of labor\n",
    "eps = 0.3 #elasticity of labor supply\n",
    "tau_0 = 0.4 #standard labor income tax\n",
    "tau_1 = 0.1 #top bracket labor income tax\n",
    "kappa = 0.4 #cut-off for top labor income tax\n",
    "\n",
    "np.random.seed(117)\n",
    "N=1\n",
    "new_eps = 0.1\n",
    "\n",
    "w_vec = np.random.uniform(0.5, 1.5, size=N)\n",
    "l_opt_new = np.empty(N)\n",
    "c_opt_new = np.empty(N)\n",
    "\n",
    "for i,w in enumerate(w_vec):\n",
    "    opt = inauguralproject.optimizer(w,new_eps,v,tau_0,tau_1,kappa,m)\n",
    "    l_opt_new[i] = opt[0]\n",
    "    c_opt_new[i] = opt[1]\n",
    "\n",
    "new_tax = lambda l_opt_new, w_vec: tau_0*w_vec*l_opt_new + tau_1*np.max(w_vec*l_opt_new-kappa,0)\n",
    "tax_rev_new=new_tax(l_opt_new,w_vec)\n",
    "#print(new_tax)\n",
    "print(np.sum(tax_rev_new))\n",
    "#print(tax_rev)"
   ]
  },
  {
   "cell_type": "markdown",
   "metadata": {},
   "source": [
    "# Question 5"
   ]
  },
  {
   "cell_type": "markdown",
   "metadata": {},
   "source": [
    "ADD ANSWER."
   ]
  },
  {
   "cell_type": "code",
   "execution_count": 21,
   "metadata": {},
   "outputs": [
    {
     "name": "stdout",
     "output_type": "stream",
     "text": "0.1\n0.8722031903917488\n0.2\n1.4720853439131067\n0.3\n2.33962271381632\n0.4\n2.9114740757292337\n0.5\n4.031815426117641\n0.6\n4.587486818820465\n0.7\n5.257432239786532\n0.8\n5.8530789795447715\n0.9\n6.785304560702504\n0.5\n6.787838970320639\n0.3\n6.938496887931784\n0.4\n7.40133243190131\n0.2\n7.5545374327317525\n0.0\n8.246470803110164\n0.0\n8.658948084265832\nTax revenue will be: 8.658948084265832\nTau1 should be: 0.9\nTau0 should be: 0.0\nKappa should be: 0.0\n"
    }
   ],
   "source": [
    "# code\n",
    "T=10\n",
    "Tax_star=0\n",
    "kappa_star = 0\n",
    "tau0_star = 0\n",
    "tau1_star = 0\n",
    "np.random.seed(117)\n",
    "for h in range(0,11,1):\n",
    "    h /=10\n",
    "    kappa = h\n",
    "    #print('Kappa is: ' + str(kappa))\n",
    "    for j in range(0,11,1):\n",
    "        j /= 10\n",
    "        tau_1 = j\n",
    "        #print('Tau1 is :' + str(tau_1))\n",
    "        for i in range(0,11,1):\n",
    "            i /= 10\n",
    "            tau_0=i\n",
    "            #print('Tau0 is :' + str(tau_0))\n",
    "            N=10\n",
    "            w_vec = np.random.uniform(0.5, 1.5, size=N)\n",
    "            l_opt_new = np.empty(N)\n",
    "            c_opt_new = np.empty(N)\n",
    "            tax_rev_new=0\n",
    "\n",
    "            for a,w in enumerate(w_vec):\n",
    "                opt = inauguralproject.optimizer(w,new_eps,v,tau_0,tau_1,kappa,m)\n",
    "                l_opt_new[a] = opt[0]\n",
    "                c_opt_new[a] = opt[1]\n",
    "\n",
    "            new_tax = lambda l_opt_new, w_vec: tau_0*w_vec*l_opt_new + tau_1*np.max(w_vec*l_opt_new-kappa,0)\n",
    "            tax_rev_new=new_tax(l_opt_new,w_vec)\n",
    "\n",
    "            np.sum(tax_rev_new)\n",
    "            #print('Tax revenue is: ' + str(np.sum(tax_rev_new)))\n",
    "            if np.sum(tax_rev_new) > Tax_star:\n",
    "                Tax_star = np.sum(tax_rev_new)\n",
    "                kappa_star = h\n",
    "                tau1_star = j\n",
    "                tau0_star = i\n",
    "                print(tau0_star)\n",
    "                print(Tax_star)\n",
    "\n",
    "print('Tax revenue will be: ' + str(Tax_star))\n",
    "print('Tau1 should be: ' + str(tau1_star))\n",
    "print('Tau0 should be: ' + str(tau0_star))\n",
    "print('Kappa should be: ' + str(kappa_star))\n"
   ]
  },
  {
   "cell_type": "markdown",
   "metadata": {},
   "source": [
    "# Conclusion"
   ]
  },
  {
   "cell_type": "markdown",
   "metadata": {},
   "source": [
    "ADD CONCISE CONLUSION."
   ]
  }
 ],
 "metadata": {
  "kernelspec": {
   "display_name": "Python 3",
   "language": "python",
   "name": "python3"
  },
  "language_info": {
   "codemirror_mode": {
    "name": "ipython",
    "version": 3
   },
   "file_extension": ".py",
   "mimetype": "text/x-python",
   "name": "python",
   "nbconvert_exporter": "python",
   "pygments_lexer": "ipython3",
   "version": "3.7.4-final"
  },
  "toc-autonumbering": true
 },
 "nbformat": 4,
 "nbformat_minor": 4
}