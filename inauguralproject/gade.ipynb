{
 "cells": [
  {
   "cell_type": "markdown",
   "metadata": {},
   "source": [
    "# Inaugural Project"
   ]
  },
  {
   "cell_type": "markdown",
   "metadata": {},
   "source": [
    "> **Note the following:** \n",
    "> 1. This is an example of how to structure your **inaugural project**.\n",
    "> 1. Remember the general advice on structuring and commenting your code from [lecture 5](https://numeconcopenhagen.netlify.com/lectures/Workflow_and_debugging).\n",
    "> 1. Remember this [guide](https://www.markdownguide.org/basic-syntax/) on markdown and (a bit of) latex.\n",
    "> 1. Turn on automatic numbering by clicking on the small icon on top of the table of contents in the left sidebar.\n",
    "> 1. The `inauguralproject.py` file includes a function which can be used multiple times in this notebook."
   ]
  },
  {
   "cell_type": "markdown",
   "metadata": {},
   "source": [
    "Imports and set magics:"
   ]
  },
  {
   "cell_type": "code",
   "execution_count": 1,
   "metadata": {},
   "outputs": [],
   "source": [
    "import numpy as np\n",
    "\n",
    "# autoreload modules when code is run\n",
    "%load_ext autoreload\n",
    "%autoreload 2\n",
    "\n",
    "# local modules\n",
    "import inauguralproject"
   ]
  },
  {
   "cell_type": "markdown",
   "metadata": {
    "toc-hr-collapsed": true
   },
   "source": [
    "# Question 1"
   ]
  },
  {
   "cell_type": "markdown",
   "metadata": {},
   "source": [
    "BRIEFLY EXPLAIN HOW YOU SOLVE THE MODEL."
   ]
  },
  {
   "cell_type": "code",
   "execution_count": 3,
   "metadata": {},
   "outputs": [],
   "source": [
    "# code for solving the model (remember documentation and comments)\n"
   ]
  },
  {
   "cell_type": "markdown",
   "metadata": {},
   "source": [
    "# Question 2"
   ]
  },
  {
   "cell_type": "markdown",
   "metadata": {},
   "source": [
    "ADD ANSWER."
   ]
  },
  {
   "cell_type": "code",
   "execution_count": 3,
   "metadata": {},
   "outputs": [],
   "source": [
    "# code"
   ]
  },
  {
   "cell_type": "markdown",
   "metadata": {},
   "source": [
    "# Question 3"
   ]
  },
  {
   "cell_type": "markdown",
   "metadata": {},
   "source": [
    "ADD ANSWER."
   ]
  },
  {
   "cell_type": "code",
   "execution_count": 4,
   "metadata": {},
   "outputs": [],
   "source": [
    "# code"
   ]
  },
  {
   "cell_type": "markdown",
   "metadata": {},
   "source": [
    "# Question 4"
   ]
  },
  {
   "cell_type": "markdown",
   "metadata": {},
   "source": [
    "ADD ANSWER."
   ]
  },
  {
   "cell_type": "code",
   "execution_count": 8,
   "metadata": {},
   "outputs": [
    {
     "data": {
      "text/plain": "3577.4141404925044"
     },
     "execution_count": 8,
     "metadata": {},
     "output_type": "execute_result"
    }
   ],
   "source": [
    "# code\n",
    "\n",
    "m = 1 #cash-on-hand\n",
    "v = 10 #disutility of labor\n",
    "eps = 0.3 #elasticity of labor supply\n",
    "tau_0 = 0.4 #standard labor income tax\n",
    "tau_1 = 0.1 #top bracket labor income tax\n",
    "kappa = 0.4 #cut-off for top labor income tax\n",
    "\n",
    "np.random.seed(117)\n",
    "N=1\n",
    "new_eps = 0.1\n",
    "\n",
    "w_vec = np.random.uniform(0.5, 1.5, size=N)\n",
    "l_opt_new = np.empty(N)\n",
    "c_opt_new = np.empty(N)\n",
    "\n",
    "for i,w in enumerate(w_vec):\n",
    "    opt = inauguralproject.optimizer(w,new_eps,v,tau_0,tau_1,kappa,m)\n",
    "    l_opt_new[i] = opt[0]\n",
    "    c_opt_new[i] = opt[1]\n",
    "\n",
    "new_tax = lambda l_opt_new, w_vec: tau_0*w_vec*l_opt_new + tau_1*np.max(w_vec*l_opt_new-kappa,0)\n",
    "tax_rev_new=new_tax(l_opt_new,w_vec)\n",
    "#print(new_tax)\n",
    "np.sum(tax_rev_new)\n",
    "#print(tax_rev)"
   ]
  },
  {
   "cell_type": "markdown",
   "metadata": {},
   "source": [
    "# Question 5"
   ]
  },
  {
   "cell_type": "markdown",
   "metadata": {},
   "source": [
    "ADD ANSWER."
   ]
  },
  {
   "cell_type": "code",
   "execution_count": 34,
   "metadata": {},
   "outputs": [
    {
     "name": "stdout",
     "output_type": "stream",
     "text": "Tax revenue will be: 8.73708805977393\nTau1 should be: 0.9\nTau0 should be: 9\nKappa should be: 0.0\n"
    }
   ],
   "source": [
    "# code\n",
    "T=10\n",
    "Tax_star=0\n",
    "kappa_star = 0\n",
    "tau0_star = 0\n",
    "tau1_star = 0\n",
    "for h in range(0,11,1):\n",
    "    h /=10\n",
    "    kappa = h\n",
    "    #print('Kappa is: ' + str(kappa))\n",
    "    for j in range(0,11,1):\n",
    "        j /= 10\n",
    "        tau_1 = j\n",
    "        #print('Tau1 is :' + str(tau_1))\n",
    "        for i in range(0,11,1):\n",
    "            i /= 10\n",
    "            tau_0=i\n",
    "            #print('Tau0 is :' + str(tau_0))\n",
    "            N=10\n",
    "            w_vec = np.random.uniform(0.5, 1.5, size=N)\n",
    "            l_opt_new = np.empty(N)\n",
    "            c_opt_new = np.empty(N)\n",
    "\n",
    "            for i,w in enumerate(w_vec):\n",
    "                opt = inauguralproject.optimizer(w,new_eps,v,tau_0,tau_1,kappa,m)\n",
    "                l_opt_new[i] = opt[0]\n",
    "                c_opt_new[i] = opt[1]\n",
    "\n",
    "            new_tax = lambda l_opt_new, w_vec: tau_0*w_vec*l_opt_new + tau_1*np.max(w_vec*l_opt_new-kappa,0)\n",
    "            tax_rev_new=new_tax(l_opt_new,w_vec)\n",
    "\n",
    "            np.sum(tax_rev_new)\n",
    "            #print('Tax revenue is: ' + str(np.sum(tax_rev_new)))\n",
    "            if np.sum(tax_rev_new) > Tax_star:\n",
    "                Tax_star = np.sum(tax_rev_new)\n",
    "                kappa_star = h\n",
    "                tau1_star = j\n",
    "                tau0_star = i\n",
    "\n",
    "print('Tax revenue will be: ' + str(Tax_star))\n",
    "print('Tau1 should be: ' + str(tau1_star))\n",
    "print('Tau0 should be: ' + str(tau0_star))\n",
    "print('Kappa should be: ' + str(kappa_star))\n"
   ]
  },
  {
   "cell_type": "markdown",
   "metadata": {},
   "source": [
    "# Conclusion"
   ]
  },
  {
   "cell_type": "markdown",
   "metadata": {},
   "source": [
    "ADD CONCISE CONLUSION."
   ]
  }
 ],
 "metadata": {
  "kernelspec": {
   "display_name": "Python 3",
   "language": "python",
   "name": "python3"
  },
  "language_info": {
   "codemirror_mode": {
    "name": "ipython",
    "version": 3
   },
   "file_extension": ".py",
   "mimetype": "text/x-python",
   "name": "python",
   "nbconvert_exporter": "python",
   "pygments_lexer": "ipython3",
   "version": "3.7.4-final"
  },
  "toc-autonumbering": true
 },
 "nbformat": 4,
 "nbformat_minor": 4
}